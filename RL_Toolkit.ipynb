{
  "nbformat": 4,
  "nbformat_minor": 0,
  "metadata": {
    "accelerator": "GPU",
    "colab": {
      "name": "RL_Toolkit.ipynb",
      "provenance": [],
      "collapsed_sections": []
    },
    "kernelspec": {
      "display_name": "Python 3",
      "name": "python3"
    }
  },
  "cells": [
    {
      "cell_type": "code",
      "metadata": {
        "id": "YVgKdJJPehL_"
      },
      "source": [
        "from google.colab import drive\n",
        "drive.mount('/content/gdrive')"
      ],
      "execution_count": null,
      "outputs": []
    },
    {
      "cell_type": "code",
      "metadata": {
        "id": "3-JI2L9U69xP"
      },
      "source": [
        "!pip3 install rl-toolkit"
      ],
      "execution_count": null,
      "outputs": []
    },
    {
      "cell_type": "code",
      "metadata": {
        "id": "rbwGJPNkeh1D"
      },
      "source": [
        "!python3 -m rl_toolkit --mode training -env HumanoidBulletEnv-v0 -t 1000000 --buffer_capacity 10000000 -s \"/content/gdrive/My Drive/RL-Toolkit/models\" --db_path \"/content/gdrive/My Drive/RL-Toolkit/db\" --wandb"
      ],
      "execution_count": null,
      "outputs": []
    },
    {
      "cell_type": "code",
      "metadata": {
        "id": "dcTGc7jnBZRU"
      },
      "source": [
        "!python3 -m rl_toolkit --mode testing -env HumanoidBulletEnv-v0 -t 1000000 --model_a \"/content/gdrive/My Drive/RL-Toolkit/models/model_A.h5\" --db_path \"/content/gdrive/My Drive/RL-Toolkit/db\" --wandb"
      ],
      "execution_count": null,
      "outputs": []
    }
  ]
}