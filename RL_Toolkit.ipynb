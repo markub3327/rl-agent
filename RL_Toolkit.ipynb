{
  "nbformat": 4,
  "nbformat_minor": 0,
  "metadata": {
    "accelerator": "GPU",
    "colab": {
      "name": "RL-Toolkit.ipynb",
      "provenance": [],
      "collapsed_sections": []
    },
    "kernelspec": {
      "display_name": "Python 3",
      "name": "python3"
    }
  },
  "cells": [
    {
      "cell_type": "code",
      "metadata": {
        "id": "YVgKdJJPehL_"
      },
      "source": [
        "from google.colab import drive\n",
        "drive.mount('/content/gdrive')"
      ],
      "execution_count": null,
      "outputs": []
    },
    {
      "cell_type": "code",
      "metadata": {
        "id": "NNOMMgts674G"
      },
      "source": [
        "!git clone https://github.com/markub3327/rl-toolkit.git"
      ],
      "execution_count": null,
      "outputs": []
    },
    {
      "cell_type": "code",
      "metadata": {
        "id": "Qq56uKpz68vf"
      },
      "source": [
        "%cd rl-toolkit/"
      ],
      "execution_count": null,
      "outputs": []
    },
    {
      "cell_type": "code",
      "metadata": {
        "id": "3-JI2L9U69xP"
      },
      "source": [
        "!pip3 install -r requirements.txt"
      ],
      "execution_count": null,
      "outputs": []
    },
    {
      "cell_type": "code",
      "metadata": {
        "id": "rbwGJPNkeh1D"
      },
      "source": [
        "!python3 training.py -env HumanoidBulletEnv-v0 -t 1000000 --buffer_capacity 10000000 -s \"/content/gdrive/My Drive/RL-Toolkit\" --wandb"
      ],
      "execution_count": null,
      "outputs": []
    },
    {
      "cell_type": "code",
      "metadata": {
        "id": "dcTGc7jnBZRU"
      },
      "source": [
        "!python3 testing.py -env HumanoidBulletEnv-v0 -f save/model_A.h5 --wandb"
      ],
      "execution_count": null,
      "outputs": []
    }
  ]
}